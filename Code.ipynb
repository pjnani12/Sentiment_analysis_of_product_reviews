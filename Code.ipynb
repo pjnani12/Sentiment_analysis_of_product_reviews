{
 "cells": [
  {
   "cell_type": "markdown",
   "metadata": {},
   "source": [
    "\n",
    "## Q1. Write a Data Science Proposal for achieving the objective mentioned.\n",
    "\n",
    "### Given a product review, classify whether the review is of positive or negative, based on the sentiment.\n",
    "\n",
    "### This is binary classification problem involving Natural Language Processing.\n",
    "\n",
    "### Basic Structure\n",
    "### Stop word Removal  lemmatizationVectorizationModel Training  Hyper Parameter Tuning Evaluation Metrics"
   ]
  },
  {
   "cell_type": "code",
   "execution_count": 1,
   "metadata": {},
   "outputs": [],
   "source": [
    "import numpy as np\n",
    "import pandas as pd\n",
    "pd.options.mode.chained_assignment = None\n",
    "import warnings\n",
    "warnings.filterwarnings('ignore')"
   ]
  },
  {
   "cell_type": "code",
   "execution_count": 2,
   "metadata": {},
   "outputs": [],
   "source": [
    "df1=pd.read_csv(r'C:\\DataScience\\Sem2\\IDS\\Assignment\\1429_1.csv')\n",
    "df2=pd.read_csv(r'C:\\DataScience\\Sem2\\IDS\\Assignment\\Datafiniti_Amazon_Consumer_Reviews_of_Amazon_Products.csv')\n",
    "df3=pd.read_csv(r'C:\\DataScience\\Sem2\\IDS\\Assignment\\Datafiniti_Amazon_Consumer_Reviews_of_Amazon_Products_May19.csv')"
   ]
  },
  {
   "cell_type": "code",
   "execution_count": 3,
   "metadata": {},
   "outputs": [],
   "source": [
    "## We will be only considering the reviews and rating as specified in the question\n",
    "## checking for null values in the 3 data sets"
   ]
  },
  {
   "cell_type": "code",
   "execution_count": 4,
   "metadata": {},
   "outputs": [
    {
     "name": "stdout",
     "output_type": "stream",
     "text": [
      "df1 nulls = \n",
      "reviews.text       1\n",
      "reviews.rating    33\n",
      "dtype: int64 ,df1 shape = (34660, 21)\n",
      "df2 nulls = \n",
      "reviews.text      0\n",
      "reviews.rating    0\n",
      "dtype: int64 ,df1 shape = (5000, 24)\n",
      "df3 nulls = \n",
      "reviews.text      0\n",
      "reviews.rating    0\n",
      "dtype: int64 ,df1 shape = (28332, 24)\n"
     ]
    }
   ],
   "source": [
    "a=df1[['reviews.text','reviews.rating']].isnull().sum()\n",
    "b=df2[['reviews.text','reviews.rating']].isnull().sum()\n",
    "c=df3[['reviews.text','reviews.rating']].isnull().sum()\n",
    "print(\"\"\"df1 nulls = \n",
    "{0} ,df1 shape = {1}\n",
    "df2 nulls = \n",
    "{2} ,df1 shape = {3}\n",
    "df3 nulls = \n",
    "{4} ,df1 shape = {5}\"\"\".format(a,df1.shape,b,df2.shape,c,df3.shape))"
   ]
  },
  {
   "cell_type": "code",
   "execution_count": 5,
   "metadata": {},
   "outputs": [],
   "source": [
    "##AS there are no nulls in two source datasets and one has very few nulls we will drop those nulls and concat everything to form\n",
    "## a single dataframe"
   ]
  },
  {
   "cell_type": "code",
   "execution_count": 6,
   "metadata": {},
   "outputs": [],
   "source": [
    "data=pd.concat([df1[['reviews.text','reviews.rating']].dropna(),df2[['reviews.text','reviews.rating']],df3[['reviews.text','reviews.rating']]])"
   ]
  },
  {
   "cell_type": "markdown",
   "metadata": {},
   "source": [
    "## Q2. Perform exploratory analysis on the data."
   ]
  },
  {
   "cell_type": "code",
   "execution_count": 7,
   "metadata": {},
   "outputs": [
    {
     "data": {
      "text/plain": [
       "<AxesSubplot:>"
      ]
     },
     "execution_count": 7,
     "metadata": {},
     "output_type": "execute_result"
    },
    {
     "data": {
      "image/png": "[encoded data removed]",
      "text/plain": [
       "<Figure size 432x288 with 1 Axes>"
      ]
     },
     "metadata": {
      "needs_background": "light"
     },
     "output_type": "display_data"
    }
   ],
   "source": [
    "#2. Perform exploratory analysis on the data.\n",
    "data[\"reviews.rating\"].value_counts().sort_values().plot.bar()"
   ]
  },
  {
   "cell_type": "code",
   "execution_count": 8,
   "metadata": {},
   "outputs": [],
   "source": [
    "##Since its a NLP problem we cant plot the input features but the given classification probelm is extremely imbalanaced"
   ]
  },
  {
   "cell_type": "code",
   "execution_count": 9,
   "metadata": {},
   "outputs": [
    {
     "data": {
      "text/plain": [
       "<BarContainer object of 2 artists>"
      ]
     },
     "execution_count": 9,
     "metadata": {},
     "output_type": "execute_result"
    },
    {
     "data": {
      "image/png": "[encoded data removed]",
      "text/plain": [
       "<Figure size 720x576 with 1 Axes>"
      ]
     },
     "metadata": {
      "needs_background": "light"
     },
     "output_type": "display_data"
    }
   ],
   "source": [
    "import numpy as np\n",
    "import matplotlib.pyplot as plt \n",
    "a=data[\"reviews.rating\"]>=3\n",
    "reviews_split = {'<3 rating':a.value_counts().sort_values()[0], '>=3 rating':a.value_counts().sort_values()[1]}\n",
    "fig = plt.figure(figsize = (10, 8))\n",
    "plt.yticks(np.arange(0, 60000, 5000))\n",
    "plt.bar(['<3 rating','>=3 rating'], [a.value_counts().sort_values()[0],a.value_counts().sort_values()[1]], color ='blue',width=0.2)\n"
   ]
  },
  {
   "cell_type": "code",
   "execution_count": 10,
   "metadata": {},
   "outputs": [],
   "source": [
    "##from the above we can infer that the positive reviews (>=3 rating) outscale the -ve reviews (<3 rating) 25:1"
   ]
  },
  {
   "cell_type": "markdown",
   "metadata": {},
   "source": [
    "## Q3. Perform data wrangling / pre-processing."
   ]
  },
  {
   "cell_type": "markdown",
   "metadata": {},
   "source": [
    "# DATA PREPROCESSING"
   ]
  },
  {
   "cell_type": "code",
   "execution_count": 11,
   "metadata": {},
   "outputs": [],
   "source": [
    "##converting to lower case before applying the preprocessing\n",
    "data['lowercase_reviews']=data['reviews.text'].str.lower()"
   ]
  },
  {
   "cell_type": "code",
   "execution_count": 12,
   "metadata": {},
   "outputs": [],
   "source": [
    "##Now we do remove punctuations from the text\n",
    "import string\n",
    "PUNCT_TO_REMOVE = string.punctuation\n",
    "def remove_punctuation(text):\n",
    "    \"\"\"custom function to remove the punctuation\"\"\"\n",
    "    return text.translate(str.maketrans('', '', PUNCT_TO_REMOVE))\n",
    "data[\"text_wo_punct\"] = data['lowercase_reviews'].apply(lambda text: remove_punctuation(text))"
   ]
  },
  {
   "cell_type": "code",
   "execution_count": 13,
   "metadata": {},
   "outputs": [
    {
     "name": "stderr",
     "output_type": "stream",
     "text": [
      "[nltk_data] Downloading package stopwords to\n",
      "[nltk_data]     C:\\Users\\storm\\AppData\\Roaming\\nltk_data...\n",
      "[nltk_data]   Package stopwords is already up-to-date!\n"
     ]
    }
   ],
   "source": [
    "##Now removing the stop words using nltk\n",
    "import nltk\n",
    "nltk.download('stopwords')\n",
    "from nltk.corpus import stopwords\n",
    "STOPWORDS = set(stopwords.words('english'))\n",
    "def remove_stopwords(text):\n",
    "    \"\"\"custom function to remove the stopwords\"\"\"\n",
    "    return \" \".join([word for word in str(text).split() if word not in STOPWORDS])\n",
    "data[\"text_wo_stop\"] = data[\"text_wo_punct\"].apply(lambda text: remove_stopwords(text))"
   ]
  },
  {
   "cell_type": "code",
   "execution_count": 14,
   "metadata": {},
   "outputs": [],
   "source": [
    "##Generating the lemmatized text now using nltk\n",
    "from nltk.corpus import wordnet\n",
    "from nltk.stem import WordNetLemmatizer\n",
    "\n",
    "lemmatizer = WordNetLemmatizer()\n",
    "wordnet_map = {\"N\":wordnet.NOUN, \"V\":wordnet.VERB, \"J\":wordnet.ADJ, \"R\":wordnet.ADV} ##using PartofScpeech tagging to  lemmatize\n",
    "def lemmatize_words(text):\n",
    "    pos_tagged_text = nltk.pos_tag(text.split())\n",
    "    return \" \".join([lemmatizer.lemmatize(word, wordnet_map.get(pos[0], wordnet.NOUN)) for word, pos in pos_tagged_text]) \n",
    "\n",
    "data[\"text_lemmatized\"] = data[\"text_wo_stop\"].apply(lambda text: lemmatize_words(text))"
   ]
  },
  {
   "cell_type": "code",
   "execution_count": 15,
   "metadata": {},
   "outputs": [],
   "source": [
    "##We are categorizing >= 3 rating as +ve reviews and less than 3 as negative reviews\n",
    "data['label']=(data['reviews.rating'] >= 3)"
   ]
  },
  {
   "cell_type": "code",
   "execution_count": 16,
   "metadata": {},
   "outputs": [],
   "source": [
    "##Before proceeding further we will  just keep the 2 required columns ('text_lemmatized', 'label') in the data dataframe and drop\n",
    "## remaining columns"
   ]
  },
  {
   "cell_type": "code",
   "execution_count": 17,
   "metadata": {},
   "outputs": [],
   "source": [
    "data=data[['text_lemmatized', 'label']]"
   ]
  },
  {
   "cell_type": "code",
   "execution_count": 18,
   "metadata": {},
   "outputs": [
    {
     "data": {
      "text/plain": [
       "(67958, 2)"
      ]
     },
     "execution_count": 18,
     "metadata": {},
     "output_type": "execute_result"
    }
   ],
   "source": [
    "data.shape"
   ]
  },
  {
   "cell_type": "markdown",
   "metadata": {},
   "source": [
    "## Q4- Apply any 2 features engineering technique."
   ]
  },
  {
   "cell_type": "markdown",
   "metadata": {},
   "source": [
    "# FEATURE ENGINEERING\n",
    "\n",
    "## We will be using bag of words (sklearn countvectorizer) and TFIDF to generate the features for the models"
   ]
  },
  {
   "cell_type": "code",
   "execution_count": 19,
   "metadata": {},
   "outputs": [],
   "source": [
    "from sklearn.feature_extraction.text import CountVectorizer\n",
    "from sklearn.preprocessing import StandardScaler\n",
    "from sklearn.feature_extraction.text import TfidfVectorizer"
   ]
  },
  {
   "cell_type": "code",
   "execution_count": 20,
   "metadata": {},
   "outputs": [],
   "source": [
    "X = data[\"text_lemmatized\"]\n",
    "y=data['label']"
   ]
  },
  {
   "cell_type": "code",
   "execution_count": 21,
   "metadata": {},
   "outputs": [],
   "source": [
    "## splitting the data into train and test\n",
    "from sklearn.model_selection import train_test_split\n",
    "X_train, X_test, y_train, y_test = train_test_split(X, y, test_size=0.20)"
   ]
  },
  {
   "cell_type": "code",
   "execution_count": 22,
   "metadata": {},
   "outputs": [],
   "source": [
    "##Using count vectorizer to feature engineer\n",
    "from sklearn.feature_extraction.text import CountVectorizer\n",
    "vectorizer_count = CountVectorizer()\n",
    "X_train_bow=vectorizer_count.fit_transform(X_train)\n",
    "X_test_bow=vectorizer_count.transform(X_test)"
   ]
  },
  {
   "cell_type": "code",
   "execution_count": 23,
   "metadata": {},
   "outputs": [],
   "source": [
    "##centering the data using mean=False because of sparse matrix\n",
    "scaler=StandardScaler(with_mean=False)\n",
    "X_train_bow=scaler.fit_transform(X_train_bow)\n",
    "X_test_bow=scaler.transform(X_test_bow)"
   ]
  },
  {
   "cell_type": "code",
   "execution_count": 24,
   "metadata": {},
   "outputs": [],
   "source": [
    "##Using tfidf vectorizer\n",
    "vectorizer_tfidf=TfidfVectorizer()\n",
    "X_train_tfidf=vectorizer_tfidf.fit_transform(X_train)\n",
    "X_test_tfidf=vectorizer_tfidf.transform(X_test)"
   ]
  },
  {
   "cell_type": "code",
   "execution_count": 25,
   "metadata": {},
   "outputs": [],
   "source": [
    "scaler=StandardScaler(with_mean=False)\n",
    "X_train_tfidf=scaler.fit_transform(X_train_tfidf)\n",
    "X_test_tfidf=scaler.transform(X_test_tfidf)"
   ]
  },
  {
   "cell_type": "markdown",
   "metadata": {},
   "source": [
    "# Q7. Design Machine Learning models –Logistic regression and Decision tree to predict."
   ]
  },
  {
   "cell_type": "markdown",
   "metadata": {},
   "source": [
    "# MODEL TRAINIG AND HYPERPARAMTER TUNING\n",
    "## Two models will be trained Decision Trees and Logistic Regression"
   ]
  },
  {
   "cell_type": "code",
   "execution_count": 26,
   "metadata": {},
   "outputs": [],
   "source": [
    "from sklearn.tree import DecisionTreeClassifier"
   ]
  },
  {
   "cell_type": "code",
   "execution_count": 27,
   "metadata": {},
   "outputs": [],
   "source": [
    "## We will be using RandomSearchCV for hyperparameter tuning using 5 fold cross validation (default) on the train set"
   ]
  },
  {
   "cell_type": "code",
   "execution_count": 28,
   "metadata": {},
   "outputs": [],
   "source": [
    "from sklearn.model_selection import RandomizedSearchCV"
   ]
  },
  {
   "cell_type": "code",
   "execution_count": 32,
   "metadata": {},
   "outputs": [],
   "source": [
    "##Traiining 2 Decision Tree classifiers for bag of words features and tfidf features\n",
    "## handling class imbalance using balanced class weights\n",
    "DTCcountvec=DecisionTreeClassifier(class_weight='balanced')\n",
    "DTCtfidfvec=DecisionTreeClassifier(class_weight='balanced')\n"
   ]
  },
  {
   "cell_type": "code",
   "execution_count": 33,
   "metadata": {},
   "outputs": [],
   "source": [
    "## specifying the search space for Decision Tree classifiers\n",
    "params_DT={'max_depth':[100,200,500,None],'max_features':[\"auto\", \"sqrt\" ,\"log2\"],\n",
    "           'criterion':[\"gini\", \"entropy\"]\n",
    "          }"
   ]
  },
  {
   "cell_type": "code",
   "execution_count": 41,
   "metadata": {},
   "outputs": [],
   "source": [
    "##defining a classifier for bag of words approach\n",
    "DTCcountvec_tuned = RandomizedSearchCV(DTCcountvec, params_DT,n_iter=24,scoring='f1',n_jobs=-1,random_state=42) ##n=24 as we have 24 combinations in the earch space"
   ]
  },
  {
   "cell_type": "code",
   "execution_count": 47,
   "metadata": {},
   "outputs": [
    {
     "data": {
      "text/plain": [
       "RandomizedSearchCV(estimator=DecisionTreeClassifier(class_weight='balanced'),\n",
       "                   n_iter=24, n_jobs=-1,\n",
       "                   param_distributions={'criterion': ['gini', 'entropy'],\n",
       "                                        'max_depth': [100, 200, 500, None],\n",
       "                                        'max_features': ['auto', 'sqrt',\n",
       "                                                         'log2']},\n",
       "                   random_state=42, scoring='f1')"
      ]
     },
     "execution_count": 47,
     "metadata": {},
     "output_type": "execute_result"
    }
   ],
   "source": [
    "##finding the best parameter combinations using RandomSearch for decision trees and bag of words features\n",
    "DTCcountvec_tuned.fit(X_train_bow,y_train)"
   ]
  },
  {
   "cell_type": "code",
   "execution_count": 51,
   "metadata": {},
   "outputs": [
    {
     "data": {
      "text/plain": [
       "DecisionTreeClassifier(class_weight='balanced', max_depth=200,\n",
       "                       max_features='auto')"
      ]
     },
     "execution_count": 51,
     "metadata": {},
     "output_type": "execute_result"
    }
   ],
   "source": [
    "DTCcountvec_tuned.best_estimator_"
   ]
  },
  {
   "cell_type": "code",
   "execution_count": 52,
   "metadata": {},
   "outputs": [],
   "source": [
    "##defining a classifier for tfidf approach\n",
    "DTCtfidfvec_tuned = RandomizedSearchCV(DTCtfidfvec, params_DT, random_state=42,n_iter=24,scoring='f1',n_jobs=-1)"
   ]
  },
  {
   "cell_type": "code",
   "execution_count": 53,
   "metadata": {},
   "outputs": [
    {
     "data": {
      "text/plain": [
       "RandomizedSearchCV(estimator=DecisionTreeClassifier(class_weight='balanced'),\n",
       "                   n_iter=24, n_jobs=-1,\n",
       "                   param_distributions={'criterion': ['gini', 'entropy'],\n",
       "                                        'max_depth': [100, 200, 500, None],\n",
       "                                        'max_features': ['auto', 'sqrt',\n",
       "                                                         'log2']},\n",
       "                   random_state=42, scoring='f1')"
      ]
     },
     "execution_count": 53,
     "metadata": {},
     "output_type": "execute_result"
    }
   ],
   "source": [
    "##finding the best parameter combinations using RandomSearch for decision trees and tfidf features\n",
    "DTCtfidfvec_tuned.fit(X_train_tfidf,y_train)"
   ]
  },
  {
   "cell_type": "code",
   "execution_count": 54,
   "metadata": {},
   "outputs": [
    {
     "data": {
      "text/plain": [
       "DecisionTreeClassifier(class_weight='balanced', criterion='entropy',\n",
       "                       max_depth=500, max_features='auto')"
      ]
     },
     "execution_count": 54,
     "metadata": {},
     "output_type": "execute_result"
    }
   ],
   "source": [
    "DTCtfidfvec_tuned.best_estimator_"
   ]
  },
  {
   "cell_type": "code",
   "execution_count": 55,
   "metadata": {},
   "outputs": [],
   "source": [
    "##Training a logistic Regression Classifier for both bow approach and tfidf approach\n",
    "## handling class imbalance using balanced class weights"
   ]
  },
  {
   "cell_type": "code",
   "execution_count": 56,
   "metadata": {},
   "outputs": [],
   "source": [
    "from sklearn.linear_model import LogisticRegression\n",
    "lrclfcountvec = LogisticRegression(max_iter=10000,class_weight='balanced')\n",
    "lrclftfidfvec = LogisticRegression(max_iter=10000,class_weight='balanced')\n"
   ]
  },
  {
   "cell_type": "code",
   "execution_count": 57,
   "metadata": {},
   "outputs": [],
   "source": [
    "##The below 2 random searches take around 10 mins on a ryzen54600H 12 core processor , kindly be patient if you are running on\n",
    "## a slower machine , also 10000 iterations was required for convergence"
   ]
  },
  {
   "cell_type": "code",
   "execution_count": 58,
   "metadata": {},
   "outputs": [],
   "source": [
    "params_LR={\n",
    "    'penalty':['l1', 'l2', 'elasticnet', 'none'],\n",
    "    'C':[0.6,0.8,1.0]\n",
    "}"
   ]
  },
  {
   "cell_type": "code",
   "execution_count": 59,
   "metadata": {},
   "outputs": [],
   "source": [
    "lrclfcountvec_tuned = RandomizedSearchCV(lrclfcountvec, params_LR, random_state=42,n_iter=60,scoring='f1',n_jobs=-1)"
   ]
  },
  {
   "cell_type": "code",
   "execution_count": 60,
   "metadata": {},
   "outputs": [
    {
     "data": {
      "text/plain": [
       "RandomizedSearchCV(estimator=LogisticRegression(class_weight='balanced',\n",
       "                                                max_iter=10000),\n",
       "                   n_iter=60, n_jobs=-1,\n",
       "                   param_distributions={'C': [0.6, 0.8, 1.0],\n",
       "                                        'penalty': ['l1', 'l2', 'elasticnet',\n",
       "                                                    'none']},\n",
       "                   random_state=42, scoring='f1')"
      ]
     },
     "execution_count": 60,
     "metadata": {},
     "output_type": "execute_result"
    }
   ],
   "source": [
    "lrclfcountvec_tuned.fit(X_train_bow,y_train)"
   ]
  },
  {
   "cell_type": "code",
   "execution_count": 61,
   "metadata": {},
   "outputs": [
    {
     "data": {
      "text/plain": [
       "LogisticRegression(C=0.6, class_weight='balanced', max_iter=10000)"
      ]
     },
     "execution_count": 61,
     "metadata": {},
     "output_type": "execute_result"
    }
   ],
   "source": [
    "lrclfcountvec_tuned.best_estimator_"
   ]
  },
  {
   "cell_type": "code",
   "execution_count": 62,
   "metadata": {},
   "outputs": [],
   "source": [
    "lrclftfidfvec_tuned = RandomizedSearchCV(lrclftfidfvec, params_LR, random_state=42,n_iter=60,scoring='f1',n_jobs=-1)"
   ]
  },
  {
   "cell_type": "code",
   "execution_count": 63,
   "metadata": {},
   "outputs": [
    {
     "data": {
      "text/plain": [
       "RandomizedSearchCV(estimator=LogisticRegression(class_weight='balanced',\n",
       "                                                max_iter=10000),\n",
       "                   n_iter=60, n_jobs=-1,\n",
       "                   param_distributions={'C': [0.6, 0.8, 1.0],\n",
       "                                        'penalty': ['l1', 'l2', 'elasticnet',\n",
       "                                                    'none']},\n",
       "                   random_state=42, scoring='f1')"
      ]
     },
     "execution_count": 63,
     "metadata": {},
     "output_type": "execute_result"
    }
   ],
   "source": [
    "lrclftfidfvec_tuned.fit(X_train_tfidf,y_train)"
   ]
  },
  {
   "cell_type": "code",
   "execution_count": 64,
   "metadata": {},
   "outputs": [
    {
     "data": {
      "text/plain": [
       "LogisticRegression(C=0.6, class_weight='balanced', max_iter=10000)"
      ]
     },
     "execution_count": 64,
     "metadata": {},
     "output_type": "execute_result"
    }
   ],
   "source": [
    "lrclftfidfvec_tuned.best_estimator_"
   ]
  },
  {
   "cell_type": "markdown",
   "metadata": {},
   "source": [
    "## Q8. Compare the performance of selected feature engineering techniques.\n",
    "## Q9. Compare the performance of the 2 classifiers –Logistic regression and Decision tree to predict."
   ]
  },
  {
   "cell_type": "markdown",
   "metadata": {},
   "source": [
    "# COMPARING THE CLASSIFIERS AND FEATURE ENGINEERING TECHNIQUES"
   ]
  },
  {
   "cell_type": "markdown",
   "metadata": {},
   "source": [
    "### USING CONFUSION MATRIX ,ROC AND F SCORE AS IT IS A IMBALANCED CLASS PROBLEM"
   ]
  },
  {
   "cell_type": "code",
   "execution_count": 65,
   "metadata": {},
   "outputs": [],
   "source": [
    "##calculating predcitions for both classifiers and for both types of features\n",
    "y_pred_countvecLR=lrclfcountvec_tuned.predict(X_test_bow)\n",
    "y_pred_tfidfvecLR=lrclftfidfvec_tuned.predict(X_test_tfidf)\n",
    "y_pred_countvecDTC=DTCcountvec_tuned.predict(X_test_bow)\n",
    "y_pred_tfidfvecDTC=DTCtfidfvec_tuned.predict(X_test_tfidf)"
   ]
  },
  {
   "cell_type": "code",
   "execution_count": 66,
   "metadata": {
    "scrolled": true
   },
   "outputs": [
    {
     "name": "stdout",
     "output_type": "stream",
     "text": [
      "Decision Tree with bag of words-\n",
      "[[  259   229]\n",
      " [  245 12859]]\n",
      "Decision Tree with tfidf-\n",
      "[[  267   221]\n",
      " [  242 12862]]\n",
      "Logistic Regression with bag of words-\n",
      "[[  347   141]\n",
      " [  428 12676]]\n",
      "Logistic Regression with tfidf-\n",
      "[[  336   152]\n",
      " [  465 12639]]\n"
     ]
    }
   ],
   "source": [
    "##confusion matrix \n",
    "from sklearn.metrics import confusion_matrix\n",
    "print(\"Decision Tree with bag of words-\")\n",
    "print(confusion_matrix(y_test,y_pred_countvecDTC))\n",
    "print(\"Decision Tree with tfidf-\")\n",
    "print(confusion_matrix(y_test,y_pred_tfidfvecDTC))\n",
    "print(\"Logistic Regression with bag of words-\")\n",
    "print(confusion_matrix(y_test,y_pred_countvecLR))\n",
    "print(\"Logistic Regression with tfidf-\")\n",
    "print(confusion_matrix(y_test,y_pred_tfidfvecLR))"
   ]
  },
  {
   "cell_type": "code",
   "execution_count": 67,
   "metadata": {},
   "outputs": [
    {
     "name": "stdout",
     "output_type": "stream",
     "text": [
      "PRINTING F1 SCORES FOR ALL CLASSIFIERS\n",
      "Decision Tree with bag of words-\n",
      "0.981902871105681\n",
      "Decision Tree with tfidf-\n",
      "0.9823194714934891\n",
      "Logistic Regression with bag of words-\n",
      "0.9780486863932718\n",
      "Logistic Regression with tfidf-\n",
      "0.9761730063718863\n"
     ]
    }
   ],
   "source": [
    "##f1 score\n",
    "from sklearn.metrics import f1_score\n",
    "print(\"PRINTING F1 SCORES FOR ALL CLASSIFIERS\")\n",
    "print(\"Decision Tree with bag of words-\")\n",
    "print(f1_score(y_test,y_pred_countvecDTC))\n",
    "print(\"Decision Tree with tfidf-\")\n",
    "print(f1_score(y_test,y_pred_tfidfvecDTC))\n",
    "print(\"Logistic Regression with bag of words-\")\n",
    "print(f1_score(y_test,y_pred_countvecLR))\n",
    "print(\"Logistic Regression with tfidf-\")\n",
    "print(f1_score(y_test,y_pred_tfidfvecLR))"
   ]
  },
  {
   "cell_type": "code",
   "execution_count": 70,
   "metadata": {},
   "outputs": [],
   "source": [
    " from sklearn.metrics import roc_curve,roc_auc_score"
   ]
  },
  {
   "cell_type": "code",
   "execution_count": 71,
   "metadata": {},
   "outputs": [],
   "source": [
    "##caluclating probabilities for plotting ROC\n",
    "y_score_DTC_bow = DTCcountvec_tuned.predict_proba(X_test_bow)[:,1]\n",
    "y_score_DTC_tfidf = DTCtfidfvec_tuned.predict_proba(X_test_bow)[:,1]\n",
    "y_score_LR_bow = lrclfcountvec_tuned.predict_proba(X_test_bow)[:,1]\n",
    "y_score_LR_tfidf = lrclftfidfvec_tuned.predict_proba(X_test_bow)[:,1]"
   ]
  },
  {
   "cell_type": "code",
   "execution_count": 72,
   "metadata": {},
   "outputs": [],
   "source": [
    "##calculating FPR and TPR\n",
    "false_positive_rate_DTC_bow , true_positive_rate_DTC_bow , threshold_DTC_bow = roc_curve(y_test, y_score_DTC_bow)\n",
    "false_positive_rate_DTC_tfidf , true_positive_rate_DTC_tfidf , threshold_DTC_tfidf = roc_curve(y_test, y_score_DTC_tfidf)\n",
    "false_positive_rate_LR_bow , true_positive_rate_LR_bow , threshold_LR_bow = roc_curve(y_test, y_score_LR_bow)\n",
    "false_positive_rate_LR_tfidf , true_positive_rate_LR_tfidf , threshold_LR_tfidf = roc_curve(y_test, y_score_LR_tfidf)"
   ]
  },
  {
   "cell_type": "code",
   "execution_count": 73,
   "metadata": {},
   "outputs": [
    {
     "name": "stdout",
     "output_type": "stream",
     "text": [
      "PRINTING ROC AUC SCORES FOR ALL CLASSIFIERS\n",
      "Decision Tree with bag of words-\n",
      "0.7722832722832724\n",
      "Decision Tree with tfidf-\n",
      "0.645107503778098\n",
      "Logistic Regression with bag of words-\n",
      "0.8777568700084069\n",
      "Logistic Regression with tfidf-\n",
      "0.8629180615604796\n"
     ]
    }
   ],
   "source": [
    "## ROC AUC scores\n",
    "print(\"PRINTING ROC AUC SCORES FOR ALL CLASSIFIERS\")\n",
    "print(\"Decision Tree with bag of words-\")\n",
    "print(roc_auc_score(y_test,y_score_DTC_bow))\n",
    "print(\"Decision Tree with tfidf-\")\n",
    "print(roc_auc_score(y_test,y_score_DTC_tfidf))\n",
    "print(\"Logistic Regression with bag of words-\")\n",
    "print(roc_auc_score(y_test,y_score_LR_bow))\n",
    "print(\"Logistic Regression with tfidf-\")\n",
    "print(roc_auc_score(y_test, y_score_LR_tfidf))"
   ]
  },
  {
   "cell_type": "code",
   "execution_count": 74,
   "metadata": {
    "scrolled": true
   },
   "outputs": [
    {
     "data": {
      "text/plain": [
       "[<matplotlib.lines.Line2D at 0x1c3183c75c8>]"
      ]
     },
     "execution_count": 74,
     "metadata": {},
     "output_type": "execute_result"
    },
    {
     "data": {
      "image/png": "[encoded data removed]",
      "text/plain": [
       "<Figure size 720x720 with 4 Axes>"
      ]
     },
     "metadata": {
      "needs_background": "light"
     },
     "output_type": "display_data"
    }
   ],
   "source": [
    "fig, axs = plt.subplots(2, 2,figsize=(10,10))\n",
    "fig.suptitle('ROC curves')\n",
    "axs[0, 0].plot(false_positive_rate_DTC_bow , true_positive_rate_DTC_bow)\n",
    "axs[0, 0].set_title('Decision Tree bag of words')\n",
    "axs[0,0].plot([0, 1], ls=\"--\")\n",
    "axs[0, 1].plot(false_positive_rate_DTC_tfidf , true_positive_rate_DTC_tfidf)\n",
    "axs[0, 1].set_title('Decision Tree tfidf')\n",
    "axs[0,1].plot([0, 1], ls=\"--\")\n",
    "axs[1, 0].plot(false_positive_rate_LR_bow , true_positive_rate_LR_bow, 'tab:green')\n",
    "axs[1, 0].set_title('Logistic Regression bag of words')\n",
    "axs[1,0].plot([0, 1], ls=\"--\")\n",
    "axs[1, 1].plot(false_positive_rate_LR_tfidf , true_positive_rate_LR_tfidf, 'tab:red')\n",
    "axs[1, 1].set_title('Logistic Regression tfidf')\n",
    "axs[1,1].plot([0, 1], ls=\"--\")"
   ]
  },
  {
   "cell_type": "markdown",
   "metadata": {},
   "source": [
    "# Q5. Plot top 10 features."
   ]
  },
  {
   "cell_type": "code",
   "execution_count": 77,
   "metadata": {},
   "outputs": [],
   "source": [
    "##Plotting the top features\n",
    "## using the trained logistic regression model with tfidf\n",
    "##We will derive the top features(words) using a Logistic Regression max 10 coefficeints and using it to extract the corresponding\n",
    "##words from the tfidf vocabulary\n",
    "topcoef_indices=np.argsort(lrclftfidfvec_tuned.best_estimator_.coef_.reshape(-1,))[-10:]\n",
    "\n",
    "\n"
   ]
  },
  {
   "cell_type": "code",
   "execution_count": 80,
   "metadata": {},
   "outputs": [],
   "source": [
    "## to lookup the indices calculated in the previous step\n",
    "inverted_vocab = {value:key for key,value in vectorizer_tfidf.vocabulary_.items()}"
   ]
  },
  {
   "cell_type": "code",
   "execution_count": 81,
   "metadata": {
    "scrolled": false
   },
   "outputs": [
    {
     "name": "stdout",
     "output_type": "stream",
     "text": [
      "Displaying the 10 words used by the Logistic Regression algorithm with tfidf features\n",
      "Order is increasing from the least important feature to the most important feature\n",
      "------------top 10 words--------------\n",
      "morning\n",
      "grandkids\n",
      "age\n",
      "joke\n",
      "grandchild\n",
      "upgrade\n",
      "perfect\n",
      "excellent\n",
      "love\n",
      "family\n"
     ]
    }
   ],
   "source": [
    "print(\"Displaying the 10 words used by the Logistic Regression algorithm with tfidf features\")\n",
    "print(\"Order is increasing from the least important feature to the most important feature\")\n",
    "print(\"------------top 10 words--------------\")\n",
    "for i in topcoef_indices:\n",
    "    print(inverted_vocab[i])"
   ]
  },
  {
   "cell_type": "markdown",
   "metadata": {},
   "source": [
    "### Please note that there is randomisation while vectorizing so some words may change rank or some new words may come with every run. Also evaluation  metrics may change slightly , because of the randomisation."
   ]
  },
  {
   "cell_type": "markdown",
   "metadata": {},
   "source": [
    "## 6. Identification of the performance parameters to be improved, for the given problem statement."
   ]
  },
  {
   "cell_type": "markdown",
   "metadata": {},
   "source": [
    "### The biggest imrovement could be collecting more negative reviews, we tried upsampling the negative reviews and downsampling positive reviews but that did not help to improve our evaluation metrics"
   ]
  }
 ],
 "metadata": {
  "kernelspec": {
   "display_name": "Python 3",
   "language": "python",
   "name": "python3"
  },
  "language_info": {
   "codemirror_mode": {
    "name": "ipython",
    "version": 3
   },
   "file_extension": ".py",
   "mimetype": "text/x-python",
   "name": "python",
   "nbconvert_exporter": "python",
   "pygments_lexer": "ipython3",
   "version": "3.7.9"
  }
 },
 "nbformat": 4,
 "nbformat_minor": 4
}
